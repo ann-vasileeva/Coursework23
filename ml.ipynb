{
  "cells": [
    {
      "cell_type": "markdown",
      "metadata": {
        "id": "7BGswTRSX8Xm"
      },
      "source": [
        "## Импорты, загрузка файлов\n",
        "\n"
      ]
    },
    {
      "cell_type": "code",
      "execution_count": 102,
      "metadata": {
        "id": "GA_KEduprH94"
      },
      "outputs": [],
      "source": [
        "import pandas as pd\n",
        "import os\n",
        "import random\n",
        "import numpy as np\n",
        "from sklearn.model_selection import train_test_split\n",
        "from sklearn.preprocessing import StandardScaler\n",
        "from sklearn.linear_model import LinearRegression\n",
        "from sklearn.model_selection import cross_validate\n",
        "from sklearn.ensemble import RandomForestRegressor\n",
        "from sklearn.ensemble import GradientBoostingRegressor\n",
        "import torch\n",
        "import matplotlib.pyplot as plt\n",
        "\n",
        "random_state = 1337\n",
        "\n",
        "\n",
        "def set_seed(seed=random_state):\n",
        "    random.seed(seed)\n",
        "    np.random.seed(seed)\n",
        "    torch.manual_seed(seed)\n",
        "    if torch.cuda.is_available():\n",
        "        torch.cuda.manual_seed(seed)\n",
        "        torch.cuda.manual_seed_all(seed)\n",
        "        torch.backends.cudnn.deterministic = True\n",
        "        torch.backends.cudnn.benchmark = False\n",
        "    os.environ[\"PYTHONHASHSEED\"] = str(seed)"
      ]
    },
    {
      "cell_type": "code",
      "execution_count": 103,
      "metadata": {
        "colab": {
          "base_uri": "https://localhost:8080/"
        },
        "id": "Gpjp26LPrP0v",
        "outputId": "ced4a6f4-a048-4f2a-89aa-2c83a7aa35ce"
      },
      "outputs": [
        {
          "output_type": "stream",
          "name": "stdout",
          "text": [
            "Drive already mounted at /content/drive/; to attempt to forcibly remount, call drive.mount(\"/content/drive/\", force_remount=True).\n",
            "/content/drive/MyDrive/simulations\n"
          ]
        }
      ],
      "source": [
        "from google.colab import drive\n",
        "drive.mount('/content/drive/')\n",
        "%cd /content/drive/MyDrive/simulations"
      ]
    },
    {
      "cell_type": "code",
      "execution_count": 104,
      "metadata": {
        "id": "K7-HLMpcrLu_"
      },
      "outputs": [],
      "source": [
        "file_name = \"/content/drive/MyDrive/simulations/sim_res_1_without_false.csv\"\n",
        "df = pd.read_csv(file_name)"
      ]
    },
    {
      "cell_type": "markdown",
      "metadata": {
        "id": "na0GH03VYIBJ"
      },
      "source": [
        "# Машинное обучение"
      ]
    },
    {
      "cell_type": "markdown",
      "metadata": {
        "id": "VhAdYcstYQ34"
      },
      "source": [
        "## Изучение данных в датасете"
      ]
    },
    {
      "cell_type": "code",
      "execution_count": 105,
      "metadata": {
        "colab": {
          "base_uri": "https://localhost:8080/",
          "height": 206
        },
        "id": "ibbLnbnCxbHT",
        "outputId": "b04026be-b74f-4b22-87e6-e6c1ef028d71"
      },
      "outputs": [
        {
          "output_type": "execute_result",
          "data": {
            "text/plain": [
              "     dd  death_r  epochs_count  area_length_x  area_length_y  initial_pop  \\\n",
              "0  0.21     1.95          3000              3              3            1   \n",
              "1  0.41     1.50          3000              3              3            1   \n",
              "2  0.01     1.50          3000              2              2            1   \n",
              "3  0.01     1.50          3000              2              2            1   \n",
              "4  0.16     2.85          3000             10             10            1   \n",
              "\n",
              "      b  sd_b  sd_d     d  final_pop  \n",
              "0  0.55  0.80  0.65  0.50          0  \n",
              "1  0.75  0.80  0.50  0.30          6  \n",
              "2  0.95  0.65  0.50  0.60        150  \n",
              "3  0.95  0.65  0.50  0.20        266  \n",
              "4  0.81  0.50  0.95  0.55         92  "
            ],
            "text/html": [
              "\n",
              "  <div id=\"df-407fba7e-4a3f-49dd-800c-19bae433790d\">\n",
              "    <div class=\"colab-df-container\">\n",
              "      <div>\n",
              "<style scoped>\n",
              "    .dataframe tbody tr th:only-of-type {\n",
              "        vertical-align: middle;\n",
              "    }\n",
              "\n",
              "    .dataframe tbody tr th {\n",
              "        vertical-align: top;\n",
              "    }\n",
              "\n",
              "    .dataframe thead th {\n",
              "        text-align: right;\n",
              "    }\n",
              "</style>\n",
              "<table border=\"1\" class=\"dataframe\">\n",
              "  <thead>\n",
              "    <tr style=\"text-align: right;\">\n",
              "      <th></th>\n",
              "      <th>dd</th>\n",
              "      <th>death_r</th>\n",
              "      <th>epochs_count</th>\n",
              "      <th>area_length_x</th>\n",
              "      <th>area_length_y</th>\n",
              "      <th>initial_pop</th>\n",
              "      <th>b</th>\n",
              "      <th>sd_b</th>\n",
              "      <th>sd_d</th>\n",
              "      <th>d</th>\n",
              "      <th>final_pop</th>\n",
              "    </tr>\n",
              "  </thead>\n",
              "  <tbody>\n",
              "    <tr>\n",
              "      <th>0</th>\n",
              "      <td>0.21</td>\n",
              "      <td>1.95</td>\n",
              "      <td>3000</td>\n",
              "      <td>3</td>\n",
              "      <td>3</td>\n",
              "      <td>1</td>\n",
              "      <td>0.55</td>\n",
              "      <td>0.80</td>\n",
              "      <td>0.65</td>\n",
              "      <td>0.50</td>\n",
              "      <td>0</td>\n",
              "    </tr>\n",
              "    <tr>\n",
              "      <th>1</th>\n",
              "      <td>0.41</td>\n",
              "      <td>1.50</td>\n",
              "      <td>3000</td>\n",
              "      <td>3</td>\n",
              "      <td>3</td>\n",
              "      <td>1</td>\n",
              "      <td>0.75</td>\n",
              "      <td>0.80</td>\n",
              "      <td>0.50</td>\n",
              "      <td>0.30</td>\n",
              "      <td>6</td>\n",
              "    </tr>\n",
              "    <tr>\n",
              "      <th>2</th>\n",
              "      <td>0.01</td>\n",
              "      <td>1.50</td>\n",
              "      <td>3000</td>\n",
              "      <td>2</td>\n",
              "      <td>2</td>\n",
              "      <td>1</td>\n",
              "      <td>0.95</td>\n",
              "      <td>0.65</td>\n",
              "      <td>0.50</td>\n",
              "      <td>0.60</td>\n",
              "      <td>150</td>\n",
              "    </tr>\n",
              "    <tr>\n",
              "      <th>3</th>\n",
              "      <td>0.01</td>\n",
              "      <td>1.50</td>\n",
              "      <td>3000</td>\n",
              "      <td>2</td>\n",
              "      <td>2</td>\n",
              "      <td>1</td>\n",
              "      <td>0.95</td>\n",
              "      <td>0.65</td>\n",
              "      <td>0.50</td>\n",
              "      <td>0.20</td>\n",
              "      <td>266</td>\n",
              "    </tr>\n",
              "    <tr>\n",
              "      <th>4</th>\n",
              "      <td>0.16</td>\n",
              "      <td>2.85</td>\n",
              "      <td>3000</td>\n",
              "      <td>10</td>\n",
              "      <td>10</td>\n",
              "      <td>1</td>\n",
              "      <td>0.81</td>\n",
              "      <td>0.50</td>\n",
              "      <td>0.95</td>\n",
              "      <td>0.55</td>\n",
              "      <td>92</td>\n",
              "    </tr>\n",
              "  </tbody>\n",
              "</table>\n",
              "</div>\n",
              "      <button class=\"colab-df-convert\" onclick=\"convertToInteractive('df-407fba7e-4a3f-49dd-800c-19bae433790d')\"\n",
              "              title=\"Convert this dataframe to an interactive table.\"\n",
              "              style=\"display:none;\">\n",
              "        \n",
              "  <svg xmlns=\"http://www.w3.org/2000/svg\" height=\"24px\"viewBox=\"0 0 24 24\"\n",
              "       width=\"24px\">\n",
              "    <path d=\"M0 0h24v24H0V0z\" fill=\"none\"/>\n",
              "    <path d=\"M18.56 5.44l.94 2.06.94-2.06 2.06-.94-2.06-.94-.94-2.06-.94 2.06-2.06.94zm-11 1L8.5 8.5l.94-2.06 2.06-.94-2.06-.94L8.5 2.5l-.94 2.06-2.06.94zm10 10l.94 2.06.94-2.06 2.06-.94-2.06-.94-.94-2.06-.94 2.06-2.06.94z\"/><path d=\"M17.41 7.96l-1.37-1.37c-.4-.4-.92-.59-1.43-.59-.52 0-1.04.2-1.43.59L10.3 9.45l-7.72 7.72c-.78.78-.78 2.05 0 2.83L4 21.41c.39.39.9.59 1.41.59.51 0 1.02-.2 1.41-.59l7.78-7.78 2.81-2.81c.8-.78.8-2.07 0-2.86zM5.41 20L4 18.59l7.72-7.72 1.47 1.35L5.41 20z\"/>\n",
              "  </svg>\n",
              "      </button>\n",
              "      \n",
              "  <style>\n",
              "    .colab-df-container {\n",
              "      display:flex;\n",
              "      flex-wrap:wrap;\n",
              "      gap: 12px;\n",
              "    }\n",
              "\n",
              "    .colab-df-convert {\n",
              "      background-color: #E8F0FE;\n",
              "      border: none;\n",
              "      border-radius: 50%;\n",
              "      cursor: pointer;\n",
              "      display: none;\n",
              "      fill: #1967D2;\n",
              "      height: 32px;\n",
              "      padding: 0 0 0 0;\n",
              "      width: 32px;\n",
              "    }\n",
              "\n",
              "    .colab-df-convert:hover {\n",
              "      background-color: #E2EBFA;\n",
              "      box-shadow: 0px 1px 2px rgba(60, 64, 67, 0.3), 0px 1px 3px 1px rgba(60, 64, 67, 0.15);\n",
              "      fill: #174EA6;\n",
              "    }\n",
              "\n",
              "    [theme=dark] .colab-df-convert {\n",
              "      background-color: #3B4455;\n",
              "      fill: #D2E3FC;\n",
              "    }\n",
              "\n",
              "    [theme=dark] .colab-df-convert:hover {\n",
              "      background-color: #434B5C;\n",
              "      box-shadow: 0px 1px 3px 1px rgba(0, 0, 0, 0.15);\n",
              "      filter: drop-shadow(0px 1px 2px rgba(0, 0, 0, 0.3));\n",
              "      fill: #FFFFFF;\n",
              "    }\n",
              "  </style>\n",
              "\n",
              "      <script>\n",
              "        const buttonEl =\n",
              "          document.querySelector('#df-407fba7e-4a3f-49dd-800c-19bae433790d button.colab-df-convert');\n",
              "        buttonEl.style.display =\n",
              "          google.colab.kernel.accessAllowed ? 'block' : 'none';\n",
              "\n",
              "        async function convertToInteractive(key) {\n",
              "          const element = document.querySelector('#df-407fba7e-4a3f-49dd-800c-19bae433790d');\n",
              "          const dataTable =\n",
              "            await google.colab.kernel.invokeFunction('convertToInteractive',\n",
              "                                                     [key], {});\n",
              "          if (!dataTable) return;\n",
              "\n",
              "          const docLinkHtml = 'Like what you see? Visit the ' +\n",
              "            '<a target=\"_blank\" href=https://colab.research.google.com/notebooks/data_table.ipynb>data table notebook</a>'\n",
              "            + ' to learn more about interactive tables.';\n",
              "          element.innerHTML = '';\n",
              "          dataTable['output_type'] = 'display_data';\n",
              "          await google.colab.output.renderOutput(dataTable, element);\n",
              "          const docLink = document.createElement('div');\n",
              "          docLink.innerHTML = docLinkHtml;\n",
              "          element.appendChild(docLink);\n",
              "        }\n",
              "      </script>\n",
              "    </div>\n",
              "  </div>\n",
              "  "
            ]
          },
          "metadata": {},
          "execution_count": 105
        }
      ],
      "source": [
        "df.head()"
      ]
    },
    {
      "cell_type": "code",
      "execution_count": 106,
      "metadata": {
        "id": "Etpe__pywO99"
      },
      "outputs": [],
      "source": [
        "cor = df.drop(columns=['epochs_count', 'area_length_y', 'initial_pop']).corr()"
      ]
    },
    {
      "cell_type": "code",
      "execution_count": 107,
      "metadata": {
        "colab": {
          "base_uri": "https://localhost:8080/",
          "height": 536
        },
        "id": "HDjwTmC4xpPz",
        "outputId": "9f9b3d75-f33d-43ca-f813-5b54ee4bc506"
      },
      "outputs": [
        {
          "output_type": "execute_result",
          "data": {
            "text/plain": [
              "<Axes: >"
            ]
          },
          "metadata": {},
          "execution_count": 107
        },
        {
          "output_type": "display_data",
          "data": {
            "text/plain": [
              "<Figure size 640x480 with 2 Axes>"
            ],
            "image/png": "[encoded data removed]"
          },
          "metadata": {}
        }
      ],
      "source": [
        "import seaborn as sns\n",
        "\n",
        "sns.heatmap(\n",
        "    cor, \n",
        "    vmin=-1, vmax=1, center=0,\n",
        "    cmap=sns.diverging_palette(20, 220, n=200),\n",
        "    square=True\n",
        ")"
      ]
    },
    {
      "cell_type": "code",
      "execution_count": 108,
      "metadata": {
        "colab": {
          "base_uri": "https://localhost:8080/"
        },
        "id": "g2iFtbz_r0BI",
        "outputId": "8a36135d-adcf-45eb-fe15-161cae9decaa"
      },
      "outputs": [
        {
          "output_type": "stream",
          "name": "stdout",
          "text": [
            "<class 'pandas.core.frame.DataFrame'>\n",
            "RangeIndex: 14885 entries, 0 to 14884\n",
            "Data columns (total 11 columns):\n",
            " #   Column         Non-Null Count  Dtype  \n",
            "---  ------         --------------  -----  \n",
            " 0   dd             14885 non-null  float64\n",
            " 1   death_r        14885 non-null  float64\n",
            " 2   epochs_count   14885 non-null  int64  \n",
            " 3   area_length_x  14885 non-null  int64  \n",
            " 4   area_length_y  14885 non-null  int64  \n",
            " 5   initial_pop    14885 non-null  int64  \n",
            " 6   b              14885 non-null  float64\n",
            " 7   sd_b           14885 non-null  float64\n",
            " 8   sd_d           14885 non-null  float64\n",
            " 9   d              14885 non-null  float64\n",
            " 10  final_pop      14885 non-null  int64  \n",
            "dtypes: float64(6), int64(5)\n",
            "memory usage: 1.2 MB\n"
          ]
        }
      ],
      "source": [
        "df.info()"
      ]
    },
    {
      "cell_type": "code",
      "execution_count": 109,
      "metadata": {
        "colab": {
          "base_uri": "https://localhost:8080/"
        },
        "id": "dGty7IW5DnuX",
        "outputId": "400ddae8-1d3b-4404-939c-fa3bdf7691e9"
      },
      "outputs": [
        {
          "output_type": "execute_result",
          "data": {
            "text/plain": [
              "count    14885.000000\n",
              "mean      1179.397044\n",
              "std       3929.944025\n",
              "min          0.000000\n",
              "25%          0.000000\n",
              "50%         24.000000\n",
              "75%        447.000000\n",
              "max      44592.000000\n",
              "Name: final_pop, dtype: float64"
            ]
          },
          "metadata": {},
          "execution_count": 109
        }
      ],
      "source": [
        "df[\"final_pop\"].describe()"
      ]
    },
    {
      "cell_type": "code",
      "execution_count": 110,
      "metadata": {
        "colab": {
          "base_uri": "https://localhost:8080/",
          "height": 300
        },
        "id": "7-vk4cZCsEmp",
        "outputId": "33119cb4-69e3-4cd1-a204-3839e55bc1e0"
      },
      "outputs": [
        {
          "output_type": "execute_result",
          "data": {
            "text/plain": [
              "                 dd  area_length_y             b          sd_b          sd_d  \\\n",
              "count  14885.000000   14885.000000  14885.000000  14885.000000  14885.000000   \n",
              "mean       0.184148       9.334296      0.604607      0.715220      0.715452   \n",
              "std        0.136276       7.623667      0.203293      0.167367      0.167542   \n",
              "min        0.010000       2.000000      0.150000      0.500000      0.500000   \n",
              "25%        0.110000       3.000000      0.450000      0.500000      0.500000   \n",
              "50%        0.210000       5.000000      0.650000      0.650000      0.650000   \n",
              "75%        0.310000      16.000000      0.760000      0.800000      0.800000   \n",
              "max        0.410000      25.000000      0.960000      0.950000      0.950000   \n",
              "\n",
              "                  d     final_pop  \n",
              "count  14885.000000  14885.000000  \n",
              "mean       0.312241   1179.397044  \n",
              "std        0.179478   3929.944025  \n",
              "min        0.100000      0.000000  \n",
              "25%        0.200000      0.000000  \n",
              "50%        0.300000     24.000000  \n",
              "75%        0.400000    447.000000  \n",
              "max        0.700000  44592.000000  "
            ],
            "text/html": [
              "\n",
              "  <div id=\"df-70c3ef36-009b-4f87-9176-21299e9418d0\">\n",
              "    <div class=\"colab-df-container\">\n",
              "      <div>\n",
              "<style scoped>\n",
              "    .dataframe tbody tr th:only-of-type {\n",
              "        vertical-align: middle;\n",
              "    }\n",
              "\n",
              "    .dataframe tbody tr th {\n",
              "        vertical-align: top;\n",
              "    }\n",
              "\n",
              "    .dataframe thead th {\n",
              "        text-align: right;\n",
              "    }\n",
              "</style>\n",
              "<table border=\"1\" class=\"dataframe\">\n",
              "  <thead>\n",
              "    <tr style=\"text-align: right;\">\n",
              "      <th></th>\n",
              "      <th>dd</th>\n",
              "      <th>area_length_y</th>\n",
              "      <th>b</th>\n",
              "      <th>sd_b</th>\n",
              "      <th>sd_d</th>\n",
              "      <th>d</th>\n",
              "      <th>final_pop</th>\n",
              "    </tr>\n",
              "  </thead>\n",
              "  <tbody>\n",
              "    <tr>\n",
              "      <th>count</th>\n",
              "      <td>14885.000000</td>\n",
              "      <td>14885.000000</td>\n",
              "      <td>14885.000000</td>\n",
              "      <td>14885.000000</td>\n",
              "      <td>14885.000000</td>\n",
              "      <td>14885.000000</td>\n",
              "      <td>14885.000000</td>\n",
              "    </tr>\n",
              "    <tr>\n",
              "      <th>mean</th>\n",
              "      <td>0.184148</td>\n",
              "      <td>9.334296</td>\n",
              "      <td>0.604607</td>\n",
              "      <td>0.715220</td>\n",
              "      <td>0.715452</td>\n",
              "      <td>0.312241</td>\n",
              "      <td>1179.397044</td>\n",
              "    </tr>\n",
              "    <tr>\n",
              "      <th>std</th>\n",
              "      <td>0.136276</td>\n",
              "      <td>7.623667</td>\n",
              "      <td>0.203293</td>\n",
              "      <td>0.167367</td>\n",
              "      <td>0.167542</td>\n",
              "      <td>0.179478</td>\n",
              "      <td>3929.944025</td>\n",
              "    </tr>\n",
              "    <tr>\n",
              "      <th>min</th>\n",
              "      <td>0.010000</td>\n",
              "      <td>2.000000</td>\n",
              "      <td>0.150000</td>\n",
              "      <td>0.500000</td>\n",
              "      <td>0.500000</td>\n",
              "      <td>0.100000</td>\n",
              "      <td>0.000000</td>\n",
              "    </tr>\n",
              "    <tr>\n",
              "      <th>25%</th>\n",
              "      <td>0.110000</td>\n",
              "      <td>3.000000</td>\n",
              "      <td>0.450000</td>\n",
              "      <td>0.500000</td>\n",
              "      <td>0.500000</td>\n",
              "      <td>0.200000</td>\n",
              "      <td>0.000000</td>\n",
              "    </tr>\n",
              "    <tr>\n",
              "      <th>50%</th>\n",
              "      <td>0.210000</td>\n",
              "      <td>5.000000</td>\n",
              "      <td>0.650000</td>\n",
              "      <td>0.650000</td>\n",
              "      <td>0.650000</td>\n",
              "      <td>0.300000</td>\n",
              "      <td>24.000000</td>\n",
              "    </tr>\n",
              "    <tr>\n",
              "      <th>75%</th>\n",
              "      <td>0.310000</td>\n",
              "      <td>16.000000</td>\n",
              "      <td>0.760000</td>\n",
              "      <td>0.800000</td>\n",
              "      <td>0.800000</td>\n",
              "      <td>0.400000</td>\n",
              "      <td>447.000000</td>\n",
              "    </tr>\n",
              "    <tr>\n",
              "      <th>max</th>\n",
              "      <td>0.410000</td>\n",
              "      <td>25.000000</td>\n",
              "      <td>0.960000</td>\n",
              "      <td>0.950000</td>\n",
              "      <td>0.950000</td>\n",
              "      <td>0.700000</td>\n",
              "      <td>44592.000000</td>\n",
              "    </tr>\n",
              "  </tbody>\n",
              "</table>\n",
              "</div>\n",
              "      <button class=\"colab-df-convert\" onclick=\"convertToInteractive('df-70c3ef36-009b-4f87-9176-21299e9418d0')\"\n",
              "              title=\"Convert this dataframe to an interactive table.\"\n",
              "              style=\"display:none;\">\n",
              "        \n",
              "  <svg xmlns=\"http://www.w3.org/2000/svg\" height=\"24px\"viewBox=\"0 0 24 24\"\n",
              "       width=\"24px\">\n",
              "    <path d=\"M0 0h24v24H0V0z\" fill=\"none\"/>\n",
              "    <path d=\"M18.56 5.44l.94 2.06.94-2.06 2.06-.94-2.06-.94-.94-2.06-.94 2.06-2.06.94zm-11 1L8.5 8.5l.94-2.06 2.06-.94-2.06-.94L8.5 2.5l-.94 2.06-2.06.94zm10 10l.94 2.06.94-2.06 2.06-.94-2.06-.94-.94-2.06-.94 2.06-2.06.94z\"/><path d=\"M17.41 7.96l-1.37-1.37c-.4-.4-.92-.59-1.43-.59-.52 0-1.04.2-1.43.59L10.3 9.45l-7.72 7.72c-.78.78-.78 2.05 0 2.83L4 21.41c.39.39.9.59 1.41.59.51 0 1.02-.2 1.41-.59l7.78-7.78 2.81-2.81c.8-.78.8-2.07 0-2.86zM5.41 20L4 18.59l7.72-7.72 1.47 1.35L5.41 20z\"/>\n",
              "  </svg>\n",
              "      </button>\n",
              "      \n",
              "  <style>\n",
              "    .colab-df-container {\n",
              "      display:flex;\n",
              "      flex-wrap:wrap;\n",
              "      gap: 12px;\n",
              "    }\n",
              "\n",
              "    .colab-df-convert {\n",
              "      background-color: #E8F0FE;\n",
              "      border: none;\n",
              "      border-radius: 50%;\n",
              "      cursor: pointer;\n",
              "      display: none;\n",
              "      fill: #1967D2;\n",
              "      height: 32px;\n",
              "      padding: 0 0 0 0;\n",
              "      width: 32px;\n",
              "    }\n",
              "\n",
              "    .colab-df-convert:hover {\n",
              "      background-color: #E2EBFA;\n",
              "      box-shadow: 0px 1px 2px rgba(60, 64, 67, 0.3), 0px 1px 3px 1px rgba(60, 64, 67, 0.15);\n",
              "      fill: #174EA6;\n",
              "    }\n",
              "\n",
              "    [theme=dark] .colab-df-convert {\n",
              "      background-color: #3B4455;\n",
              "      fill: #D2E3FC;\n",
              "    }\n",
              "\n",
              "    [theme=dark] .colab-df-convert:hover {\n",
              "      background-color: #434B5C;\n",
              "      box-shadow: 0px 1px 3px 1px rgba(0, 0, 0, 0.15);\n",
              "      filter: drop-shadow(0px 1px 2px rgba(0, 0, 0, 0.3));\n",
              "      fill: #FFFFFF;\n",
              "    }\n",
              "  </style>\n",
              "\n",
              "      <script>\n",
              "        const buttonEl =\n",
              "          document.querySelector('#df-70c3ef36-009b-4f87-9176-21299e9418d0 button.colab-df-convert');\n",
              "        buttonEl.style.display =\n",
              "          google.colab.kernel.accessAllowed ? 'block' : 'none';\n",
              "\n",
              "        async function convertToInteractive(key) {\n",
              "          const element = document.querySelector('#df-70c3ef36-009b-4f87-9176-21299e9418d0');\n",
              "          const dataTable =\n",
              "            await google.colab.kernel.invokeFunction('convertToInteractive',\n",
              "                                                     [key], {});\n",
              "          if (!dataTable) return;\n",
              "\n",
              "          const docLinkHtml = 'Like what you see? Visit the ' +\n",
              "            '<a target=\"_blank\" href=https://colab.research.google.com/notebooks/data_table.ipynb>data table notebook</a>'\n",
              "            + ' to learn more about interactive tables.';\n",
              "          element.innerHTML = '';\n",
              "          dataTable['output_type'] = 'display_data';\n",
              "          await google.colab.output.renderOutput(dataTable, element);\n",
              "          const docLink = document.createElement('div');\n",
              "          docLink.innerHTML = docLinkHtml;\n",
              "          element.appendChild(docLink);\n",
              "        }\n",
              "      </script>\n",
              "    </div>\n",
              "  </div>\n",
              "  "
            ]
          },
          "metadata": {},
          "execution_count": 110
        }
      ],
      "source": [
        "df.drop(columns=['initial_pop', 'death_r', 'epochs_count', 'area_length_x']).describe()"
      ]
    },
    {
      "cell_type": "code",
      "execution_count": 111,
      "metadata": {
        "colab": {
          "base_uri": "https://localhost:8080/"
        },
        "id": "LUN1CNtN10VH",
        "outputId": "59d4148d-c430-4c0c-f0c3-1659cda9b089"
      },
      "outputs": [
        {
          "output_type": "execute_result",
          "data": {
            "text/plain": [
              "0.25        0.00\n",
              "0.50       24.00\n",
              "0.75      447.00\n",
              "0.90     2533.20\n",
              "0.99    21923.44\n",
              "Name: final_pop, dtype: float64"
            ]
          },
          "metadata": {},
          "execution_count": 111
        }
      ],
      "source": [
        "df[\"final_pop\"].quantile([0.25, 0.5, 0.75, 0.9, 0.99])"
      ]
    },
    {
      "cell_type": "markdown",
      "metadata": {
        "id": "qmArPCDhYYtl"
      },
      "source": [
        "Нормализация данных"
      ]
    },
    {
      "cell_type": "code",
      "execution_count": 112,
      "metadata": {
        "id": "w1p6V7ehsXxE"
      },
      "outputs": [],
      "source": [
        "X = df.drop(\"final_pop\", axis =1)\n",
        "y = df[\"final_pop\"]\n",
        "\n",
        "scaler = StandardScaler()\n",
        "X = scaler.fit_transform(X)"
      ]
    },
    {
      "cell_type": "markdown",
      "metadata": {
        "id": "TYnLcl2PYcob"
      },
      "source": [
        "## Линейная регрессия"
      ]
    },
    {
      "cell_type": "code",
      "execution_count": 113,
      "metadata": {
        "id": "KovpQ9kAsv1C"
      },
      "outputs": [],
      "source": [
        "set_seed()\n",
        "scores_linreg = cross_validate(LinearRegression(), X, y, cv=4,scoring=('r2', 'neg_mean_squared_error'), return_train_score=True)"
      ]
    },
    {
      "cell_type": "code",
      "execution_count": 114,
      "metadata": {
        "colab": {
          "base_uri": "https://localhost:8080/"
        },
        "id": "G0w7IMRYsv3Y",
        "outputId": "8cd86f85-0584-4acd-86ad-e6fc0b6296d3"
      },
      "outputs": [
        {
          "output_type": "stream",
          "name": "stdout",
          "text": [
            "RMSE: 3298.352321142484\n"
          ]
        }
      ],
      "source": [
        "print(\"RMSE:\",np.sqrt(-1*scores_linreg['test_neg_mean_squared_error']).mean())"
      ]
    },
    {
      "cell_type": "markdown",
      "metadata": {
        "id": "puTrwqxQYsQd"
      },
      "source": [
        "## Случайный лес"
      ]
    },
    {
      "cell_type": "code",
      "execution_count": 115,
      "metadata": {
        "id": "QUsElJs8sv5y"
      },
      "outputs": [],
      "source": [
        "set_seed()\n",
        "scores_random_forest = cross_validate(RandomForestRegressor(max_depth=3, random_state=random_state), X, y, cv=4,scoring=('r2', 'neg_mean_squared_error'), return_train_score=True)"
      ]
    },
    {
      "cell_type": "code",
      "execution_count": 116,
      "metadata": {
        "id": "tvjPehsRiiav"
      },
      "outputs": [],
      "source": [
        "set_seed()\n",
        "best_rmse = 1000000000\n",
        "best_params = [0, 0]\n",
        "for depth in range(1,20,2):\n",
        "  for leaves_num in [1,2,3,4, 5, 10, 15]:\n",
        "    scores_random_forest = cross_validate(RandomForestRegressor(max_depth=depth,min_samples_leaf = leaves_num, random_state=random_state), X, y, cv=4,scoring=('r2', 'neg_mean_squared_error'), return_train_score=True)\n",
        "    cur_rmse = np.sqrt(-1*scores_random_forest['test_neg_mean_squared_error']).mean()\n",
        "    if cur_rmse < best_rmse:\n",
        "      best_rmse = cur_rmse\n",
        "      best_params = [depth, leaves_num]"
      ]
    },
    {
      "cell_type": "code",
      "execution_count": 117,
      "metadata": {
        "id": "nj0pAIboky7R",
        "colab": {
          "base_uri": "https://localhost:8080/"
        },
        "outputId": "e5375b97-f715-4910-b0f1-0e645cd330f9"
      },
      "outputs": [
        {
          "output_type": "stream",
          "name": "stdout",
          "text": [
            "307.98948969649217\n"
          ]
        }
      ],
      "source": [
        "print(best_rmse)"
      ]
    },
    {
      "cell_type": "code",
      "execution_count": 118,
      "metadata": {
        "id": "J8O34OzBmA6P",
        "colab": {
          "base_uri": "https://localhost:8080/"
        },
        "outputId": "4f8de35d-d8a3-4ff2-cebe-54d1fd6f2ac3"
      },
      "outputs": [
        {
          "output_type": "stream",
          "name": "stdout",
          "text": [
            "[15, 1]\n"
          ]
        }
      ],
      "source": [
        "print(best_params)"
      ]
    },
    {
      "cell_type": "markdown",
      "metadata": {
        "id": "TjrsppVXY7Oc"
      },
      "source": [
        "## Градиентный бустинг"
      ]
    },
    {
      "cell_type": "markdown",
      "metadata": {
        "id": "Jn8p64kfItnE"
      },
      "source": [
        "### Подбор оптимальных параметров"
      ]
    },
    {
      "cell_type": "markdown",
      "metadata": {
        "id": "U9ObkBzeJx0n"
      },
      "source": [
        "Для начала посмотрим, как результаты завсисят от каждого из параметров"
      ]
    },
    {
      "cell_type": "code",
      "execution_count": null,
      "metadata": {
        "id": "Te0oxAt91Umn"
      },
      "outputs": [],
      "source": [
        "learning_rates = [1, 0.5, 0.4, 0.3, 0.25, 0.1, 0.05, 0.01]\n",
        "n_estimators = [1, 2, 4, 8, 16, 32, 64, 100, 200]\n",
        "max_depths = np.linspace(1, 32, 32, endpoint=True)\n",
        "min_samples_splits = np.linspace(0.1, 1.0, 10, endpoint=True)\n",
        "min_samples_leafs = np.linspace(0.1, 0.5, 10, endpoint=True)"
      ]
    },
    {
      "cell_type": "code",
      "execution_count": null,
      "metadata": {
        "colab": {
          "base_uri": "https://localhost:8080/",
          "height": 447
        },
        "id": "yEjep9v7DOqT",
        "outputId": "dbafbdcb-91af-4ab6-9bfd-bbb2810c6686"
      },
      "outputs": [
        {
          "data": {
            "text/plain": [
              "[<matplotlib.lines.Line2D at 0x7f09370e0d30>]"
            ]
          },
          "execution_count": 107,
          "metadata": {},
          "output_type": "execute_result"
        },
        {
          "data": {
            "image/png": "[encoded data removed]",
            "text/plain": [
              "<Figure size 640x480 with 1 Axes>"
            ]
          },
          "metadata": {},
          "output_type": "display_data"
        }
      ],
      "source": [
        "set_seed()\n",
        "best_rmse = 1000000000\n",
        "rmse = []\n",
        "best_params = [0, 0]\n",
        "for lr in learning_rates:\n",
        "  model_3 = GradientBoostingRegressor(random_state=random_state, learning_rate=lr)\n",
        "  scores_gradient_boosting = cross_validate(model_3, X, y, cv=4,scoring=('r2', 'neg_mean_squared_error'), return_train_score=True)\n",
        "  cur_rmse = np.sqrt(-1*scores_gradient_boosting['test_neg_mean_squared_error']).mean()\n",
        "  rmse.append(cur_rmse)\n",
        "  if cur_rmse < best_rmse:\n",
        "    best_rmse = cur_rmse\n",
        "    \n",
        "plt.plot(learning_rates, rmse)\n"
      ]
    },
    {
      "cell_type": "code",
      "execution_count": null,
      "metadata": {
        "colab": {
          "base_uri": "https://localhost:8080/",
          "height": 447
        },
        "id": "QKXS-Ti4EjO0",
        "outputId": "3d7d7fe7-e1c6-4a80-8824-bb76c9109d5c"
      },
      "outputs": [
        {
          "name": "stdout",
          "output_type": "stream",
          "text": [
            "708.9450237268252\n"
          ]
        },
        {
          "data": {
            "image/png": "[encoded data removed]",
            "text/plain": [
              "<Figure size 640x480 with 1 Axes>"
            ]
          },
          "metadata": {},
          "output_type": "display_data"
        }
      ],
      "source": [
        "set_seed()\n",
        "best_rmse = 1000000000\n",
        "rmse = []\n",
        "best_params = [0, 0]\n",
        "for n in n_estimators:\n",
        "  model_3 = GradientBoostingRegressor(random_state=random_state, n_estimators=n_est)\n",
        "  scores_gradient_boosting = cross_validate(model_3, X, y, cv=4,scoring=('r2', 'neg_mean_squared_error'), return_train_score=True)\n",
        "  cur_rmse = np.sqrt(-1*scores_gradient_boosting['test_neg_mean_squared_error']).mean()\n",
        "  rmse.append(cur_rmse)\n",
        "  if cur_rmse < best_rmse:\n",
        "    best_rmse = cur_rmse\n",
        "\n",
        "plt.plot(n_estimators, rmse)\n",
        "print(best_rmse)\n"
      ]
    },
    {
      "cell_type": "code",
      "execution_count": null,
      "metadata": {
        "colab": {
          "base_uri": "https://localhost:8080/",
          "height": 447
        },
        "id": "BAaKVpNbEv7C",
        "outputId": "5f211aa0-9c6e-4da4-d46e-d6c1e9d78100"
      },
      "outputs": [
        {
          "name": "stdout",
          "output_type": "stream",
          "text": [
            "312.0066853892456\n"
          ]
        },
        {
          "data": {
            "image/png": "[encoded data removed]",
            "text/plain": [
              "<Figure size 640x480 with 1 Axes>"
            ]
          },
          "metadata": {},
          "output_type": "display_data"
        }
      ],
      "source": [
        "set_seed()\n",
        "best_rmse = 1000000000\n",
        "rmse = []\n",
        "best_params = [0, 0]\n",
        "for m_d in max_depths:\n",
        "  model_3 = GradientBoostingRegressor(random_state=random_state, max_depth=int(m_d))\n",
        "  scores_gradient_boosting = cross_validate(model_3, X, y, cv=4,scoring=('r2', 'neg_mean_squared_error'), return_train_score=True)\n",
        "  cur_rmse = np.sqrt(-1*scores_gradient_boosting['test_neg_mean_squared_error']).mean()\n",
        "  rmse.append(cur_rmse)\n",
        "  if cur_rmse < best_rmse:\n",
        "    best_rmse = cur_rmse\n",
        "\n",
        "plt.plot(max_depths, rmse)\n",
        "print(best_rmse)\n"
      ]
    },
    {
      "cell_type": "code",
      "execution_count": null,
      "metadata": {
        "colab": {
          "base_uri": "https://localhost:8080/",
          "height": 451
        },
        "id": "TZq0tlvSFkaO",
        "outputId": "b8900c73-1f1f-443d-af93-5d5754d58992"
      },
      "outputs": [
        {
          "data": {
            "text/plain": [
              "[<matplotlib.lines.Line2D at 0x7f0934e71d20>]"
            ]
          },
          "execution_count": 110,
          "metadata": {},
          "output_type": "execute_result"
        },
        {
          "data": {
            "image/png": "[encoded data removed]",
            "text/plain": [
              "<Figure size 640x480 with 1 Axes>"
            ]
          },
          "metadata": {},
          "output_type": "display_data"
        }
      ],
      "source": [
        "set_seed()\n",
        "best_rmse = 1000000000\n",
        "rmse = []\n",
        "best_params = [0, 0]\n",
        "for l in min_samples_leafs:\n",
        "  model_3 = GradientBoostingRegressor(random_state=random_state, min_samples_leaf=l)\n",
        "  scores_gradient_boosting = cross_validate(model_3, X, y, cv=4,scoring=('r2', 'neg_mean_squared_error'), return_train_score=True)\n",
        "  cur_rmse = np.sqrt(-1*scores_gradient_boosting['test_neg_mean_squared_error']).mean()\n",
        "  rmse.append(cur_rmse)\n",
        "  if cur_rmse < best_rmse:\n",
        "    best_rmse = cur_rmse\n",
        "\n",
        "plt.plot(min_samples_leafs, rmse)"
      ]
    },
    {
      "cell_type": "markdown",
      "metadata": {
        "id": "vGhWZ8tkKAwQ"
      },
      "source": [
        "### Итоговый вариант"
      ]
    },
    {
      "cell_type": "code",
      "execution_count": null,
      "metadata": {
        "id": "loPdBgKgI4q-"
      },
      "outputs": [],
      "source": [
        "learning_rates = [0.5, 0.4, 0.25, 0.1, 0.05, 0.01]\n",
        "max_depths = np.linspace(5, 10, 5, endpoint=True)\n",
        "min_samples_leafs = np.linspace(1,200, 5,  endpoint=True)"
      ]
    },
    {
      "cell_type": "code",
      "execution_count": null,
      "metadata": {
        "id": "wn8wvy2-IqaZ"
      },
      "outputs": [],
      "source": [
        "set_seed()\n",
        "best_rmse = 1000000000\n",
        "best_params = [0, 0]\n",
        "rmse = []\n",
        "for lr in learning_rates:\n",
        "    for m_d in max_depths:\n",
        "      for l in min_samples_leafs:\n",
        "        model_3 = GradientBoostingRegressor(random_state=random_state, learning_rate=lr, min_samples_leaf=int(l), max_depth=int(m_d))\n",
        "        scores_gradient_boosting = cross_validate(model_3, X, y, cv=4,scoring=('r2', 'neg_mean_squared_error'), return_train_score=True)\n",
        "        cur_rmse = np.sqrt(-1*scores_gradient_boosting['test_neg_mean_squared_error']).mean()\n",
        "        rmse.append(cur_rmse)\n",
        "        if cur_rmse < best_rmse:\n",
        "          best_rmse = cur_rmse\n",
        "          best_params = [lr, m_d, l]\n",
        "\n"
      ]
    },
    {
      "cell_type": "code",
      "execution_count": null,
      "metadata": {
        "colab": {
          "base_uri": "https://localhost:8080/"
        },
        "id": "wG-sp9Ih3zrY",
        "outputId": "ae8eadfa-bdfb-40d1-ace4-c9c2a61eb972"
      },
      "outputs": [
        {
          "data": {
            "text/plain": [
              "312.0066853892456"
            ]
          },
          "execution_count": 116,
          "metadata": {},
          "output_type": "execute_result"
        }
      ],
      "source": [
        "best_rmse"
      ]
    },
    {
      "cell_type": "code",
      "execution_count": null,
      "metadata": {
        "colab": {
          "base_uri": "https://localhost:8080/"
        },
        "id": "yL_7MuKMaL1A",
        "outputId": "079a093f-d4e6-450e-edd7-1bbac550f00c"
      },
      "outputs": [
        {
          "data": {
            "text/plain": [
              "[0.1, 7.5, 1.0]"
            ]
          },
          "execution_count": 117,
          "metadata": {},
          "output_type": "execute_result"
        }
      ],
      "source": [
        "best_params"
      ]
    },
    {
      "cell_type": "markdown",
      "metadata": {
        "id": "VurKuSGeZFxW"
      },
      "source": [
        "## Обучение нейронной сети"
      ]
    },
    {
      "cell_type": "code",
      "execution_count": null,
      "metadata": {
        "id": "IB7x1ZGg2Xl4"
      },
      "outputs": [],
      "source": [
        "from torch import nn\n",
        "\n",
        "class MLP(nn.Module):\n",
        "    def __init__(self, in_features, num_classes, hidden_size):\n",
        "        super().__init__()\n",
        "        self.model = nn.Sequential(\n",
        "            nn.Linear(in_features=in_features, out_features=hidden_size),\n",
        "            nn.ReLU(),\n",
        "            nn.Linear(in_features=hidden_size, out_features=hidden_size),\n",
        "            nn.ReLU(),\n",
        "            nn.Linear(in_features=hidden_size, out_features=hidden_size),\n",
        "            nn.ReLU(),\n",
        "            nn.Linear(in_features=hidden_size, out_features=num_classes, bias=False)\n",
        "        )\n",
        "\n",
        "    def forward(self, x):\n",
        "        return self.model(x)\n"
      ]
    },
    {
      "cell_type": "code",
      "execution_count": null,
      "metadata": {
        "id": "cpAXtc9q2XoX"
      },
      "outputs": [],
      "source": [
        "def plot_losses(train_losses, train_metrics, val_losses, val_metrics):\n",
        "    '''\n",
        "    Plot losses and metrics while training\n",
        "      - train_losses: sequence of train losses\n",
        "      - train_metrics: sequence of train MSE values\n",
        "      - val_losses: sequence of validation losses\n",
        "      - val_metrics: sequence of validation MSE values\n",
        "    '''\n",
        "    clear_output()\n",
        "    fig, ax = plt.subplots(1, 1, figsize=(8, 5))\n",
        "    ax.plot(range(1, len(train_metrics) + 1), train_metrics, label='train')\n",
        "    ax.plot(range(1, len(val_metrics) + 1), val_metrics, label='val')\n",
        "\n",
        "    #if max(train_losses) / min(train_losses) > 10:\n",
        "    #    axs[0].set_yscale('log')\n",
        "    #\n",
        "    #if max(train_metrics) / min(train_metrics) > 10:\n",
        "    #    axs[0].set_yscale('log')\n",
        "\n",
        "\n",
        "    ax.set_xlabel('epoch')\n",
        "    ax.legend()\n",
        "\n",
        "    ax.set_ylabel('MSE')\n",
        "    \n",
        "    plt.show()\n",
        "\n",
        "\n",
        "import torch\n",
        "from tqdm.auto import tqdm\n",
        "\n",
        "\n",
        "def train_and_validate(device, model, optimizer, criterion, metric, train_loader, val_loader,\n",
        "                       num_epochs, verbose=True):\n",
        "    '''\n",
        "    Train and validate neural network\n",
        "      - model: neural network to train\n",
        "      - optimizer: optimizer chained to a model\n",
        "      - criterion: loss function class\n",
        "      - metric: function to measure MSE taking neural networks predictions\n",
        "                 and ground truth labels\n",
        "      - train_loader: DataLoader with train set\n",
        "      - val_loader: DataLoader with validation set\n",
        "      - num_epochs: number of epochs to train\n",
        "      - verbose: whether to plot metrics during training\n",
        "      - device: device to use for training and inference, e.g. 'cpu', 'cuda'\n",
        "    Returns:\n",
        "      - train_mse: training MSE over the last epoch\n",
        "      - val_mse: validation MSE after the last epoch\n",
        "    '''\n",
        "\n",
        "\n",
        "    train_losses, val_losses = [], []\n",
        "    train_metrics, val_metrics = [], []\n",
        "\n",
        "    for epoch in range(1, num_epochs + 1):\n",
        "        model.train()\n",
        "        running_loss, running_metric = 0, 0\n",
        "        pbar = tqdm(train_loader, desc=f'Training {epoch}/{num_epochs}') \\\n",
        "            if verbose else train_loader\n",
        "\n",
        "        for i, (X_batch, y_batch) in enumerate(pbar, 1):\n",
        "            X_batch, y_batch = X_batch.to(device), y_batch.to(device)\n",
        "\n",
        "            optimizer.zero_grad()\n",
        "\n",
        "            predictions = model(X_batch)\n",
        "            loss = criterion(predictions, y_batch)\n",
        "\n",
        "            loss.backward()\n",
        "            optimizer.step()\n",
        "\n",
        "            with torch.no_grad():\n",
        "                metric_value = metric(predictions.to(device), y_batch)\n",
        "                if type(metric_value) == torch.Tensor:\n",
        "                    metric_value = metric_value.item()\n",
        "                running_loss += loss.item() * X_batch.shape[0]\n",
        "                running_metric += metric_value * X_batch.shape[0]\n",
        "\n",
        "            if verbose and i % 100 == 0:\n",
        "                pbar.set_postfix({'loss': loss.item(), 'MSE': metric_value})\n",
        "\n",
        "        train_losses += [running_loss / len(train_loader.dataset)]\n",
        "        train_metrics += [running_metric / len(train_loader.dataset)]\n",
        "\n",
        "        model.eval()\n",
        "        running_loss, running_metric = 0, 0\n",
        "        pbar = tqdm(val_loader, desc=f'Validating {epoch}/{num_epochs}') \\\n",
        "            if verbose else val_loader\n",
        "\n",
        "        for i, (X_batch, y_batch) in enumerate(pbar, 1):\n",
        "            X_batch, y_batch = X_batch.to(device), y_batch.to(device)\n",
        "\n",
        "\n",
        "            with torch.no_grad():\n",
        "                predictions = model(torch.flatten(X_batch, start_dim = 1))\n",
        "                loss = criterion(predictions, y_batch)\n",
        "\n",
        "                metric_value = metric(predictions.to(device), y_batch)\n",
        "                if type(metric_value) == torch.Tensor:\n",
        "                    metric_value = metric_value.item()\n",
        "                running_loss += loss.item() * X_batch.shape[0]\n",
        "                running_metric += metric_value * X_batch.shape[0]\n",
        "\n",
        "            if verbose and i % 100 == 0:\n",
        "                pbar.set_postfix({'loss': loss.item(), 'MSE': metric_value})\n",
        "\n",
        "        val_losses += [running_loss / len(val_loader.dataset)]\n",
        "        val_metrics += [running_metric / len(val_loader.dataset)]\n",
        "\n",
        "        if verbose:\n",
        "            plot_losses(train_losses, train_metrics, val_losses, val_metrics)\n",
        "    \n",
        "    if verbose:\n",
        "        print(f'Validation MSE: {val_metrics[-1]:.3f}')\n",
        "\n",
        "    return train_metrics[-1], val_metrics[-1]\n"
      ]
    },
    {
      "cell_type": "code",
      "execution_count": null,
      "metadata": {
        "id": "i5l4ubDM2Xq5"
      },
      "outputs": [],
      "source": [
        "import torch\n",
        "import numpy as np\n",
        "import pandas as pd\n",
        "import matplotlib.pyplot as plt\n",
        "import seaborn as sns\n",
        "from torch import nn\n",
        "from torch.utils.data import TensorDataset, DataLoader\n",
        "from tqdm.notebook import tqdm\n",
        "from IPython.display import clear_output\n",
        "\n",
        "\n",
        "set_seed()\n",
        "\n",
        "\n",
        "#scaler = StandardScaler()\n",
        "#X = scaler.fit_transform(X)\n",
        "\n",
        "\n",
        "\n",
        "# X = df[df.final_pop < df.final_pop.quantile(.95)].drop(\"final_pop\", axis =1)\n",
        "# y = df[df.final_pop < df.final_pop.quantile(.95)][\"final_pop\"]\n",
        "\n",
        "\n",
        "X = df.drop(\"final_pop\", axis =1)\n",
        "y = df[\"final_pop\"]\n",
        "\n",
        "\n",
        "#scaler = StandardScaler()\n",
        "#X = scaler.fit_transform(X)\n",
        "\n",
        "X_train, X_test, y_train, y_test = train_test_split(X, y, test_size=0.3, random_state=random_state)\n",
        "\n",
        "#scalerX = StandardScaler().fit(X_train)\n",
        "#scalery = StandardScaler().fit(y_train)\n",
        "\n",
        "#X_train = scalerX.transform(X_train)\n",
        "#y_train = scalery.transform(y_train)\n",
        "#X_test = scalerX.transform(X_test)\n",
        "#y_test = scalery.transform(y_test)\n",
        "\n",
        "\n",
        "X_train = torch.tensor(X_train.values, dtype=torch.float32)\n",
        "y_train = torch.tensor(y_train.values, dtype=torch.float32).reshape(-1, 1)\n",
        "\n",
        "X_test = torch.tensor(X_test.values, dtype=torch.float32)\n",
        "y_test = torch.tensor(y_test.values, dtype=torch.float32).reshape(-1, 1)\n",
        "\n",
        "\n",
        "NUM_EPOCHS = 10\n",
        "num_classes = np.unique(y).shape[0]\n",
        "\n",
        "train_loader = DataLoader(list(zip(X_train, y_train/y_train.max()*(num_classes-1) )), batch_size=16, shuffle=True)\n",
        "val_loader = DataLoader(list(zip(X_test, y_test/y_test.max()*(num_classes-1))), batch_size=16, shuffle=True)\n",
        "\n",
        "IN_SIZE = train_loader.dataset[0][0].shape[0]\n",
        "\n",
        "\n",
        "device = torch.device('cuda:0' if torch.cuda.is_available() else 'cpu')\n",
        "\n",
        "\n",
        "my_model = MLP(in_features = IN_SIZE, num_classes = num_classes, hidden_size = 128).to(device)\n",
        "\n",
        "optimizer = torch.optim.Adam(my_model.parameters(), lr=0.001)\n",
        "#optimizer = torch.optim.SGD(my_model.parameters(), lr=0.01, momentum=0.9)\n",
        "#criterion = nn.CrossEntropyLoss()\n",
        "criterion = nn.MSELoss()\n",
        "metric = nn.MSELoss()\n",
        "\n",
        "\n",
        "#device = torch.device('cuda:0' if torch.cuda.is_available() else 'cpu')\n",
        "#optimizer = torch.optim.SGD(model.parameters(), lr=1e-2, momentum=0.9)"
      ]
    },
    {
      "cell_type": "code",
      "execution_count": null,
      "metadata": {
        "colab": {
          "base_uri": "https://localhost:8080/",
          "height": 503
        },
        "id": "qp5oGWAXvWE8",
        "outputId": "1f5dcc0c-c54a-411f-dee9-ebbb1dbc06e6"
      },
      "outputs": [
        {
          "data": {
            "image/png": "[encoded data removed]",
            "text/plain": [
              "<Figure size 800x500 with 1 Axes>"
            ]
          },
          "metadata": {},
          "output_type": "display_data"
        },
        {
          "name": "stdout",
          "output_type": "stream",
          "text": [
            "Validation MSE: 50453.632\n"
          ]
        },
        {
          "data": {
            "text/plain": [
              "(49171.419200866614, 50453.631599621556)"
            ]
          },
          "execution_count": 36,
          "metadata": {},
          "output_type": "execute_result"
        }
      ],
      "source": [
        "train_and_validate(device, my_model, optimizer, criterion, metric, train_loader, val_loader, num_epochs=10)"
      ]
    },
    {
      "cell_type": "code",
      "execution_count": null,
      "metadata": {
        "colab": {
          "base_uri": "https://localhost:8080/"
        },
        "id": "qWL2UNEczO9V",
        "outputId": "58920136-3886-4e8b-aa61-8b4950b4260d"
      },
      "outputs": [
        {
          "data": {
            "text/plain": [
              "221.74629467223713"
            ]
          },
          "execution_count": 37,
          "metadata": {},
          "output_type": "execute_result"
        }
      ],
      "source": [
        "49171.419200866614 ** 0.5"
      ]
    }
  ],
  "metadata": {
    "colab": {
      "provenance": []
    },
    "kernelspec": {
      "display_name": "Python 3",
      "name": "python3"
    },
    "language_info": {
      "name": "python"
    }
  },
  "nbformat": 4,
  "nbformat_minor": 0
}